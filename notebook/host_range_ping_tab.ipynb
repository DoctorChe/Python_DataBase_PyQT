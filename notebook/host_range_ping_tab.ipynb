{
 "cells": [
  {
   "cell_type": "code",
   "execution_count": 92,
   "metadata": {},
   "outputs": [],
   "source": [
    "import chardet\n",
    "import ipaddress\n",
    "import re\n",
    "import subprocess\n",
    "from tabulate import tabulate"
   ]
  },
  {
   "cell_type": "code",
   "execution_count": 93,
   "metadata": {},
   "outputs": [],
   "source": [
    "def host_range_ping_tab(ip_start, ip_end):\n",
    "    ip_start, ip_end = list(map(lambda x: str(ipaddress.ip_address(x)), [ip_start, ip_end]))\n",
    "    start_base = re.match(r'\\d+.\\d+.\\d+.', ip_start)[0]\n",
    "    end_base = re.match(r'\\d+.\\d+.\\d+.', ip_end)[0]\n",
    "    if start_base == end_base:\n",
    "        start_range = int(re.search(r'\\d+$', ip_start)[0])\n",
    "        end_range = int(re.search(r'\\d+$', ip_end)[0])\n",
    "        ip_range = (f'{start_base}{x}' for x in range(start_range, end_range + 1))\n",
    "#         host_ping(ip_range)\n",
    "        reachable = []\n",
    "        unreachable = []\n",
    "        for ip in ip_range:\n",
    "            ip = str(ipaddress.ip_address(ip))\n",
    "            with subprocess.Popen(['ping', ip], shell=True, stdin=subprocess.PIPE, stdout=subprocess.PIPE, stderr=subprocess.PIPE) as process:\n",
    "                out = process.stdout.read()\n",
    "                codepage = chardet.detect(out)\n",
    "                out = out.decode(codepage['encoding']).encode('utf-8')\n",
    "                result = re.search(r'(\\d+)(% потерь)|(\\d+)(% packet loss)', out.decode('utf-8'))\n",
    "                if not result[0].startswith('100'):\n",
    "#                     print(f'{ip} - Узел доступен')\n",
    "                    reachable.append(ip)\n",
    "                else:\n",
    "#                     print(f'{ip} - Узел недоступен')\n",
    "                    unreachable.append(ip)\n",
    "        print(tabulate({\"Reachable\": reachable,\"Unreachable\": unreachable}, headers=\"keys\", tablefmt=\"grid\"))"
   ]
  },
  {
   "cell_type": "code",
   "execution_count": 94,
   "metadata": {},
   "outputs": [
    {
     "name": "stdout",
     "output_type": "stream",
     "text": [
      "+-------------+---------------+\n",
      "| Reachable   | Unreachable   |\n",
      "+=============+===============+\n",
      "| 10.0.1.1    | 10.0.1.0      |\n",
      "+-------------+---------------+\n",
      "| 10.0.1.2    |               |\n",
      "+-------------+---------------+\n",
      "| 10.0.1.3    |               |\n",
      "+-------------+---------------+\n",
      "| 10.0.1.4    |               |\n",
      "+-------------+---------------+\n"
     ]
    }
   ],
   "source": [
    "# host_range = [\"10.0.0.1\", \"10.0.0.3\"]\n",
    "ip_start = \"10.0.1.0\"\n",
    "ip_end = \"10.0.1.4\"\n",
    "host_range_ping_tab(ip_start, ip_end)"
   ]
  },
  {
   "cell_type": "code",
   "execution_count": null,
   "metadata": {},
   "outputs": [],
   "source": []
  }
 ],
 "metadata": {
  "kernelspec": {
   "display_name": "Python 3",
   "language": "python",
   "name": "python3"
  },
  "language_info": {
   "codemirror_mode": {
    "name": "ipython",
    "version": 3
   },
   "file_extension": ".py",
   "mimetype": "text/x-python",
   "name": "python",
   "nbconvert_exporter": "python",
   "pygments_lexer": "ipython3",
   "version": "3.6.6"
  }
 },
 "nbformat": 4,
 "nbformat_minor": 2
}
