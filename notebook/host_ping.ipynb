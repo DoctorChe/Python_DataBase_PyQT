{
 "cells": [
  {
   "cell_type": "code",
   "execution_count": 101,
   "metadata": {},
   "outputs": [],
   "source": [
    "import chardet\n",
    "import ipaddress\n",
    "import re\n",
    "import socket\n",
    "import subprocess"
   ]
  },
  {
   "cell_type": "code",
   "execution_count": 102,
   "metadata": {},
   "outputs": [],
   "source": [
    "def hostname_to_ip(name):\n",
    "    try:\n",
    "        host = socket.gethostbyname(name)\n",
    "    except socket.gaierror as err:\n",
    "        print(f\"Cannot resolve hostname: {name} {err}\")\n",
    "        return None\n",
    "    else:\n",
    "        return host"
   ]
  },
  {
   "cell_type": "code",
   "execution_count": 103,
   "metadata": {},
   "outputs": [],
   "source": [
    "def host_ping(host_list):\n",
    "    for host in host_list:\n",
    "        ip = hostname_to_ip(host)\n",
    "        ip = str(ipaddress.ip_address(ip))\n",
    "        with subprocess.Popen(['ping', ip], shell=True, stdin=subprocess.PIPE, stdout=subprocess.PIPE, stderr=subprocess.PIPE) as process:\n",
    "            out = process.stdout.read()\n",
    "            codepage = chardet.detect(out)\n",
    "            out = out.decode(codepage['encoding']).encode('utf-8')\n",
    "            result = re.search(r'(\\d+)(% потерь)|(\\d+)(% packet loss)', out.decode('utf-8'))\n",
    "            if not result[0].startswith('100'):\n",
    "                print(f'{host} - Узел доступен')\n",
    "            else:\n",
    "                print(f'{host} - Узел недоступен')\n"
   ]
  },
  {
   "cell_type": "code",
   "execution_count": 105,
   "metadata": {},
   "outputs": [
    {
     "name": "stdout",
     "output_type": "stream",
     "text": [
      "yandex.com - Узел доступен\n",
      "10.0.0.3 - Узел недоступен\n"
     ]
    }
   ],
   "source": [
    "host_list = [\"yandex.com\", \"10.0.0.3\"]\n",
    "host_ping(host_list)"
   ]
  },
  {
   "cell_type": "code",
   "execution_count": null,
   "metadata": {},
   "outputs": [],
   "source": []
  }
 ],
 "metadata": {
  "kernelspec": {
   "display_name": "Python 3",
   "language": "python",
   "name": "python3"
  },
  "language_info": {
   "codemirror_mode": {
    "name": "ipython",
    "version": 3
   },
   "file_extension": ".py",
   "mimetype": "text/x-python",
   "name": "python",
   "nbconvert_exporter": "python",
   "pygments_lexer": "ipython3",
   "version": "3.6.6"
  }
 },
 "nbformat": 4,
 "nbformat_minor": 2
}
